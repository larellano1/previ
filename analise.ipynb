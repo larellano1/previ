{
 "cells": [
  {
   "cell_type": "code",
   "execution_count": 2,
   "metadata": {},
   "outputs": [],
   "source": [
    "import pandas as pd\n",
    "import bs4\n",
    "import requests"
   ]
  },
  {
   "cell_type": "code",
   "execution_count": 65,
   "metadata": {},
   "outputs": [],
   "source": [
    "url_serie = \"http://www.ipeadata.gov.br/ExibeSerie.aspx?serid=36482\""
   ]
  },
  {
   "cell_type": "code",
   "execution_count": 70,
   "metadata": {},
   "outputs": [],
   "source": [
    "page = requests.get(url_serie)"
   ]
  },
  {
   "cell_type": "code",
   "execution_count": 71,
   "metadata": {},
   "outputs": [],
   "source": [
    "html = page.text\n",
    "soup = bs4.BeautifulSoup(html)"
   ]
  },
  {
   "cell_type": "code",
   "execution_count": 72,
   "metadata": {},
   "outputs": [],
   "source": [
    "data = soup.find_all('tr', {'class': 'dxgvDataRow'})"
   ]
  },
  {
   "cell_type": "code",
   "execution_count": null,
   "metadata": {},
   "outputs": [],
   "source": [
    "ipca_dados = []\n",
    "for row in data:\n",
    "    try:\n",
    "        date, valor = row.find_all('td')\n",
    "        instancia = {'data' : date.text, 'valor': valor.text}\n",
    "        ipca_dados.append(instancia)\n",
    "    except:\n",
    "        print(row)\n",
    "IPCA = pd.DataFrame(ipca_dados)"
   ]
  },
  {
   "cell_type": "code",
   "execution_count": 92,
   "metadata": {},
   "outputs": [],
   "source": [
    "IPCA['data'] = pd.to_datetime(IPCA['data'], format='%Y.%m')\n"
   ]
  },
  {
   "cell_type": "code",
   "execution_count": 120,
   "metadata": {},
   "outputs": [],
   "source": [
    "IPCA2 = IPCA[IPCA['data'] >= '2005-01-01']"
   ]
  },
  {
   "cell_type": "code",
   "execution_count": 121,
   "metadata": {},
   "outputs": [
    {
     "name": "stderr",
     "output_type": "stream",
     "text": [
      "C:\\Users\\d805664\\AppData\\Local\\Temp/ipykernel_13088/2927832948.py:1: SettingWithCopyWarning: \n",
      "A value is trying to be set on a copy of a slice from a DataFrame.\n",
      "Try using .loc[row_indexer,col_indexer] = value instead\n",
      "\n",
      "See the caveats in the documentation: https://pandas.pydata.org/pandas-docs/stable/user_guide/indexing.html#returning-a-view-versus-a-copy\n",
      "  IPCA2['valor'] = pd.to_numeric(IPCA2['valor'].str.replace(\".\",\"\").str.replace(\",\",\".\"))\n"
     ]
    }
   ],
   "source": [
    "IPCA2['valor'] = pd.to_numeric(IPCA2['valor'].str.replace(\".\",\"\").str.replace(\",\",\".\"))"
   ]
  },
  {
   "cell_type": "code",
   "execution_count": 122,
   "metadata": {},
   "outputs": [
    {
     "data": {
      "text/html": [
       "<div>\n",
       "<style scoped>\n",
       "    .dataframe tbody tr th:only-of-type {\n",
       "        vertical-align: middle;\n",
       "    }\n",
       "\n",
       "    .dataframe tbody tr th {\n",
       "        vertical-align: top;\n",
       "    }\n",
       "\n",
       "    .dataframe thead th {\n",
       "        text-align: right;\n",
       "    }\n",
       "</style>\n",
       "<table border=\"1\" class=\"dataframe\">\n",
       "  <thead>\n",
       "    <tr style=\"text-align: right;\">\n",
       "      <th></th>\n",
       "      <th>data</th>\n",
       "      <th>valor</th>\n",
       "    </tr>\n",
       "  </thead>\n",
       "  <tbody>\n",
       "    <tr>\n",
       "      <th>300</th>\n",
       "      <td>2005-01-01</td>\n",
       "      <td>2412.83</td>\n",
       "    </tr>\n",
       "    <tr>\n",
       "      <th>301</th>\n",
       "      <td>2005-02-01</td>\n",
       "      <td>2427.07</td>\n",
       "    </tr>\n",
       "    <tr>\n",
       "      <th>302</th>\n",
       "      <td>2005-03-01</td>\n",
       "      <td>2441.87</td>\n",
       "    </tr>\n",
       "    <tr>\n",
       "      <th>303</th>\n",
       "      <td>2005-04-01</td>\n",
       "      <td>2463.11</td>\n",
       "    </tr>\n",
       "    <tr>\n",
       "      <th>304</th>\n",
       "      <td>2005-05-01</td>\n",
       "      <td>2475.18</td>\n",
       "    </tr>\n",
       "  </tbody>\n",
       "</table>\n",
       "</div>"
      ],
      "text/plain": [
       "          data    valor\n",
       "300 2005-01-01  2412.83\n",
       "301 2005-02-01  2427.07\n",
       "302 2005-03-01  2441.87\n",
       "303 2005-04-01  2463.11\n",
       "304 2005-05-01  2475.18"
      ]
     },
     "execution_count": 122,
     "metadata": {},
     "output_type": "execute_result"
    }
   ],
   "source": [
    "IPCA2.head()"
   ]
  },
  {
   "cell_type": "code",
   "execution_count": 123,
   "metadata": {},
   "outputs": [
    {
     "name": "stdout",
     "output_type": "stream",
     "text": [
      "<class 'pandas.core.frame.DataFrame'>\n",
      "Int64Index: 203 entries, 300 to 502\n",
      "Data columns (total 2 columns):\n",
      " #   Column  Non-Null Count  Dtype         \n",
      "---  ------  --------------  -----         \n",
      " 0   data    203 non-null    datetime64[ns]\n",
      " 1   valor   203 non-null    float64       \n",
      "dtypes: datetime64[ns](1), float64(1)\n",
      "memory usage: 4.8 KB\n"
     ]
    }
   ],
   "source": [
    "IPCA2.info()"
   ]
  },
  {
   "cell_type": "code",
   "execution_count": 125,
   "metadata": {},
   "outputs": [],
   "source": [
    "IPCA2.set_index('data', inplace=True)"
   ]
  },
  {
   "cell_type": "code",
   "execution_count": 110,
   "metadata": {},
   "outputs": [
    {
     "data": {
      "text/plain": [
       "<AxesSubplot:xlabel='data'>"
      ]
     },
     "execution_count": 110,
     "metadata": {},
     "output_type": "execute_result"
    },
    {
     "data": {
      "image/png": "[encoded data removed]",
      "text/plain": [
       "<Figure size 432x288 with 1 Axes>"
      ]
     },
     "metadata": {
      "needs_background": "light"
     },
     "output_type": "display_data"
    }
   ],
   "source": [
    "IPCA2.plot.line()"
   ]
  },
  {
   "cell_type": "code",
   "execution_count": 126,
   "metadata": {},
   "outputs": [
    {
     "name": "stderr",
     "output_type": "stream",
     "text": [
      "C:\\Users\\d805664\\AppData\\Local\\Temp/ipykernel_13088/4185411347.py:2: SettingWithCopyWarning: \n",
      "A value is trying to be set on a copy of a slice from a DataFrame.\n",
      "Try using .loc[row_indexer,col_indexer] = value instead\n",
      "\n",
      "See the caveats in the documentation: https://pandas.pydata.org/pandas-docs/stable/user_guide/indexing.html#returning-a-view-versus-a-copy\n",
      "  IPCA2['fator'] = ultimo_indice/IPCA2['valor']\n"
     ]
    }
   ],
   "source": [
    "ultimo_indice = IPCA2['valor'][-1]\n",
    "IPCA2['fator'] = ultimo_indice/IPCA2['valor']"
   ]
  },
  {
   "cell_type": "code",
   "execution_count": 127,
   "metadata": {},
   "outputs": [],
   "source": [
    "IPCA2.reset_index(inplace=True)"
   ]
  },
  {
   "cell_type": "code",
   "execution_count": 128,
   "metadata": {},
   "outputs": [],
   "source": [
    "IPCA2.to_html('tabela_ipca.html')"
   ]
  },
  {
   "cell_type": "code",
   "execution_count": 129,
   "metadata": {},
   "outputs": [],
   "source": [
    "url_teto = \"https://previdenciarista.com/blog/tabela-historica-de-tetos-previdenciarios-da-previdencia-social-inss-a-partir-de-1994/\""
   ]
  },
  {
   "cell_type": "code",
   "execution_count": 148,
   "metadata": {},
   "outputs": [],
   "source": [
    "html_teto = requests.get(url_teto).text"
   ]
  },
  {
   "cell_type": "code",
   "execution_count": 149,
   "metadata": {},
   "outputs": [],
   "source": [
    "soup_teto = bs4.BeautifulSoup(html_teto)"
   ]
  },
  {
   "cell_type": "code",
   "execution_count": 191,
   "metadata": {},
   "outputs": [],
   "source": [
    "dados_lista = []\n",
    "for col in soup_teto.find_all('div', {'class': 'table_col'}):\n",
    "    dados = col.find_all('div', {'class', 'table_line'})    \n",
    "    for i in dados:\n",
    "        dados_lista.append(i.text)\n",
    "\n",
    "terco = int(len(dados_lista)/3)\n",
    "dtInicio = dados_lista[0:terco]\n",
    "teto = dados_lista[terco:terco*2]"
   ]
  },
  {
   "cell_type": "code",
   "execution_count": 192,
   "metadata": {},
   "outputs": [],
   "source": [
    "dict_teto = {'data': dtInicio, 'teto': teto}\n",
    "TETO = pd.DataFrame(dict_teto)"
   ]
  },
  {
   "cell_type": "code",
   "execution_count": 193,
   "metadata": {},
   "outputs": [
    {
     "data": {
      "text/html": [
       "<div>\n",
       "<style scoped>\n",
       "    .dataframe tbody tr th:only-of-type {\n",
       "        vertical-align: middle;\n",
       "    }\n",
       "\n",
       "    .dataframe tbody tr th {\n",
       "        vertical-align: top;\n",
       "    }\n",
       "\n",
       "    .dataframe thead th {\n",
       "        text-align: right;\n",
       "    }\n",
       "</style>\n",
       "<table border=\"1\" class=\"dataframe\">\n",
       "  <thead>\n",
       "    <tr style=\"text-align: right;\">\n",
       "      <th></th>\n",
       "      <th>data</th>\n",
       "      <th>teto</th>\n",
       "    </tr>\n",
       "  </thead>\n",
       "  <tbody>\n",
       "    <tr>\n",
       "      <th>25</th>\n",
       "      <td>janeiro de 2017</td>\n",
       "      <td>R$ 5.531.31</td>\n",
       "    </tr>\n",
       "    <tr>\n",
       "      <th>26</th>\n",
       "      <td>janeiro de 2018</td>\n",
       "      <td>R$ 5.645.80</td>\n",
       "    </tr>\n",
       "    <tr>\n",
       "      <th>27</th>\n",
       "      <td>janeiro de 2019</td>\n",
       "      <td>R$ 5.839.45</td>\n",
       "    </tr>\n",
       "    <tr>\n",
       "      <th>28</th>\n",
       "      <td>janeiro de 2020</td>\n",
       "      <td>R$ 6.101.06</td>\n",
       "    </tr>\n",
       "    <tr>\n",
       "      <th>29</th>\n",
       "      <td>janeiro de 2021</td>\n",
       "      <td>R$ 6.433.57</td>\n",
       "    </tr>\n",
       "  </tbody>\n",
       "</table>\n",
       "</div>"
      ],
      "text/plain": [
       "               data         teto\n",
       "25  janeiro de 2017  R$ 5.531.31\n",
       "26  janeiro de 2018  R$ 5.645.80\n",
       "27  janeiro de 2019  R$ 5.839.45\n",
       "28  janeiro de 2020  R$ 6.101.06\n",
       "29  janeiro de 2021  R$ 6.433.57"
      ]
     },
     "execution_count": 193,
     "metadata": {},
     "output_type": "execute_result"
    }
   ],
   "source": [
    "TETO.tail()"
   ]
  },
  {
   "cell_type": "code",
   "execution_count": 217,
   "metadata": {},
   "outputs": [],
   "source": [
    "TETO[['MES','ANO']] = TETO['data'].str.split(\" de \", expand=True)"
   ]
  },
  {
   "cell_type": "code",
   "execution_count": 222,
   "metadata": {},
   "outputs": [
    {
     "data": {
      "text/plain": [
       "3"
      ]
     },
     "execution_count": 222,
     "metadata": {},
     "output_type": "execute_result"
    }
   ],
   "source": [
    "def mesToInt(mes):\n",
    "    meses = ['janeiro', 'fevereiro','março','abril','maio','junho','julho','agosto','setembro','outubro','novembro','dezembro']\n",
    "    return meses.index(mes) + 1\n",
    "\n",
    "mesToInt('março')"
   ]
  },
  {
   "cell_type": "code",
   "execution_count": 240,
   "metadata": {},
   "outputs": [],
   "source": [
    "TETO['MES_INT'] = TETO['MES'].apply(mesToInt)"
   ]
  },
  {
   "cell_type": "code",
   "execution_count": 256,
   "metadata": {},
   "outputs": [],
   "source": [
    "TETO['ANO'] = TETO['ANO'].apply(lambda x : int(x))"
   ]
  },
  {
   "cell_type": "code",
   "execution_count": 262,
   "metadata": {},
   "outputs": [],
   "source": [
    "TETO['DIA'] = 1 "
   ]
  },
  {
   "cell_type": "code",
   "execution_count": 267,
   "metadata": {},
   "outputs": [],
   "source": [
    "TETO['DATA'] = pd.to_datetime(dict(year = TETO['ANO'], month = TETO['MES_INT'], day = TETO['DIA']))"
   ]
  },
  {
   "cell_type": "code",
   "execution_count": 268,
   "metadata": {},
   "outputs": [
    {
     "name": "stdout",
     "output_type": "stream",
     "text": [
      "<class 'pandas.core.frame.DataFrame'>\n",
      "RangeIndex: 30 entries, 0 to 29\n",
      "Data columns (total 7 columns):\n",
      " #   Column   Non-Null Count  Dtype         \n",
      "---  ------   --------------  -----         \n",
      " 0   data     30 non-null     object        \n",
      " 1   teto     30 non-null     object        \n",
      " 2   MES      30 non-null     object        \n",
      " 3   ANO      30 non-null     int64         \n",
      " 4   MES_INT  30 non-null     int64         \n",
      " 5   DIA      30 non-null     int64         \n",
      " 6   DATA     30 non-null     datetime64[ns]\n",
      "dtypes: datetime64[ns](1), int64(3), object(3)\n",
      "memory usage: 1.8+ KB\n"
     ]
    }
   ],
   "source": [
    "TETO.info()"
   ]
  },
  {
   "cell_type": "code",
   "execution_count": 269,
   "metadata": {},
   "outputs": [],
   "source": [
    "TETO2 = TETO[['DATA','teto']]"
   ]
  },
  {
   "cell_type": "code",
   "execution_count": 278,
   "metadata": {},
   "outputs": [
    {
     "name": "stderr",
     "output_type": "stream",
     "text": [
      "C:\\Users\\d805664\\AppData\\Local\\Temp/ipykernel_13088/2598141420.py:1: SettingWithCopyWarning: \n",
      "A value is trying to be set on a copy of a slice from a DataFrame.\n",
      "Try using .loc[row_indexer,col_indexer] = value instead\n",
      "\n",
      "See the caveats in the documentation: https://pandas.pydata.org/pandas-docs/stable/user_guide/indexing.html#returning-a-view-versus-a-copy\n",
      "  TETO2['teto'] = TETO2['teto'].apply(lambda x: x.replace(\"R$ \",\"\").replace(\".\",\"\"))\n"
     ]
    }
   ],
   "source": [
    "TETO2['teto'] = TETO2['teto'].apply(lambda x: x.replace(\"R$ \",\"\").replace(\".\",\"\"))"
   ]
  },
  {
   "cell_type": "code",
   "execution_count": 281,
   "metadata": {},
   "outputs": [
    {
     "name": "stderr",
     "output_type": "stream",
     "text": [
      "C:\\Users\\d805664\\AppData\\Local\\Temp/ipykernel_13088/857094640.py:1: SettingWithCopyWarning: \n",
      "A value is trying to be set on a copy of a slice from a DataFrame.\n",
      "Try using .loc[row_indexer,col_indexer] = value instead\n",
      "\n",
      "See the caveats in the documentation: https://pandas.pydata.org/pandas-docs/stable/user_guide/indexing.html#returning-a-view-versus-a-copy\n",
      "  TETO2['teto'] = pd.to_numeric(TETO2['teto'])/100\n"
     ]
    }
   ],
   "source": [
    "TETO2['teto'] = pd.to_numeric(TETO2['teto'])/100"
   ]
  },
  {
   "cell_type": "code",
   "execution_count": 285,
   "metadata": {},
   "outputs": [
    {
     "name": "stderr",
     "output_type": "stream",
     "text": [
      "C:\\Users\\d805664\\AppData\\Local\\Programs\\Python\\Python38\\lib\\site-packages\\pandas\\core\\frame.py:4300: SettingWithCopyWarning: \n",
      "A value is trying to be set on a copy of a slice from a DataFrame\n",
      "\n",
      "See the caveats in the documentation: https://pandas.pydata.org/pandas-docs/stable/user_guide/indexing.html#returning-a-view-versus-a-copy\n",
      "  return super().rename(\n"
     ]
    }
   ],
   "source": [
    "TETO2.rename(columns={'DATA':'data'}, inplace=True)"
   ]
  },
  {
   "cell_type": "code",
   "execution_count": 314,
   "metadata": {},
   "outputs": [],
   "source": [
    "DF_IPCA_TETO = IPCA2.merge(TETO2, how='left', on='data')"
   ]
  },
  {
   "cell_type": "code",
   "execution_count": 315,
   "metadata": {},
   "outputs": [],
   "source": [
    "DF_IPCA_TETO['teto'] = DF_IPCA_TETO['teto'].ffill()"
   ]
  },
  {
   "cell_type": "code",
   "execution_count": 316,
   "metadata": {},
   "outputs": [
    {
     "data": {
      "text/plain": [
       "12    2508.72\n",
       "Name: teto, dtype: float64"
      ]
     },
     "execution_count": 316,
     "metadata": {},
     "output_type": "execute_result"
    }
   ],
   "source": [
    "TETO2[(TETO2['data'] < '2005-05-01') & (TETO2['data'] > '2004-01-01')]['teto']"
   ]
  },
  {
   "cell_type": "code",
   "execution_count": 320,
   "metadata": {},
   "outputs": [],
   "source": [
    "DF_IPCA_TETO['teto'] = DF_IPCA_TETO['teto'].fillna(2508.72)"
   ]
  },
  {
   "cell_type": "code",
   "execution_count": 321,
   "metadata": {},
   "outputs": [
    {
     "data": {
      "text/html": [
       "<div>\n",
       "<style scoped>\n",
       "    .dataframe tbody tr th:only-of-type {\n",
       "        vertical-align: middle;\n",
       "    }\n",
       "\n",
       "    .dataframe tbody tr th {\n",
       "        vertical-align: top;\n",
       "    }\n",
       "\n",
       "    .dataframe thead th {\n",
       "        text-align: right;\n",
       "    }\n",
       "</style>\n",
       "<table border=\"1\" class=\"dataframe\">\n",
       "  <thead>\n",
       "    <tr style=\"text-align: right;\">\n",
       "      <th></th>\n",
       "      <th>data</th>\n",
       "      <th>valor</th>\n",
       "      <th>fator</th>\n",
       "      <th>teto</th>\n",
       "    </tr>\n",
       "  </thead>\n",
       "  <tbody>\n",
       "    <tr>\n",
       "      <th>0</th>\n",
       "      <td>2005-01-01</td>\n",
       "      <td>2412.83</td>\n",
       "      <td>2.518076</td>\n",
       "      <td>2508.72</td>\n",
       "    </tr>\n",
       "    <tr>\n",
       "      <th>1</th>\n",
       "      <td>2005-02-01</td>\n",
       "      <td>2427.07</td>\n",
       "      <td>2.503302</td>\n",
       "      <td>2508.72</td>\n",
       "    </tr>\n",
       "    <tr>\n",
       "      <th>2</th>\n",
       "      <td>2005-03-01</td>\n",
       "      <td>2441.87</td>\n",
       "      <td>2.488130</td>\n",
       "      <td>2508.72</td>\n",
       "    </tr>\n",
       "    <tr>\n",
       "      <th>3</th>\n",
       "      <td>2005-04-01</td>\n",
       "      <td>2463.11</td>\n",
       "      <td>2.466674</td>\n",
       "      <td>2508.72</td>\n",
       "    </tr>\n",
       "    <tr>\n",
       "      <th>4</th>\n",
       "      <td>2005-05-01</td>\n",
       "      <td>2475.18</td>\n",
       "      <td>2.454646</td>\n",
       "      <td>2668.15</td>\n",
       "    </tr>\n",
       "    <tr>\n",
       "      <th>...</th>\n",
       "      <td>...</td>\n",
       "      <td>...</td>\n",
       "      <td>...</td>\n",
       "      <td>...</td>\n",
       "    </tr>\n",
       "    <tr>\n",
       "      <th>198</th>\n",
       "      <td>2021-07-01</td>\n",
       "      <td>5825.37</td>\n",
       "      <td>1.042971</td>\n",
       "      <td>6433.57</td>\n",
       "    </tr>\n",
       "    <tr>\n",
       "      <th>199</th>\n",
       "      <td>2021-08-01</td>\n",
       "      <td>5876.05</td>\n",
       "      <td>1.033975</td>\n",
       "      <td>6433.57</td>\n",
       "    </tr>\n",
       "    <tr>\n",
       "      <th>200</th>\n",
       "      <td>2021-09-01</td>\n",
       "      <td>5944.21</td>\n",
       "      <td>1.022119</td>\n",
       "      <td>6433.57</td>\n",
       "    </tr>\n",
       "    <tr>\n",
       "      <th>201</th>\n",
       "      <td>2021-10-01</td>\n",
       "      <td>6018.51</td>\n",
       "      <td>1.009501</td>\n",
       "      <td>6433.57</td>\n",
       "    </tr>\n",
       "    <tr>\n",
       "      <th>202</th>\n",
       "      <td>2021-11-01</td>\n",
       "      <td>6075.69</td>\n",
       "      <td>1.000000</td>\n",
       "      <td>6433.57</td>\n",
       "    </tr>\n",
       "  </tbody>\n",
       "</table>\n",
       "<p>203 rows × 4 columns</p>\n",
       "</div>"
      ],
      "text/plain": [
       "          data    valor     fator     teto\n",
       "0   2005-01-01  2412.83  2.518076  2508.72\n",
       "1   2005-02-01  2427.07  2.503302  2508.72\n",
       "2   2005-03-01  2441.87  2.488130  2508.72\n",
       "3   2005-04-01  2463.11  2.466674  2508.72\n",
       "4   2005-05-01  2475.18  2.454646  2668.15\n",
       "..         ...      ...       ...      ...\n",
       "198 2021-07-01  5825.37  1.042971  6433.57\n",
       "199 2021-08-01  5876.05  1.033975  6433.57\n",
       "200 2021-09-01  5944.21  1.022119  6433.57\n",
       "201 2021-10-01  6018.51  1.009501  6433.57\n",
       "202 2021-11-01  6075.69  1.000000  6433.57\n",
       "\n",
       "[203 rows x 4 columns]"
      ]
     },
     "execution_count": 321,
     "metadata": {},
     "output_type": "execute_result"
    }
   ],
   "source": [
    "DF_IPCA_TETO"
   ]
  },
  {
   "cell_type": "code",
   "execution_count": 326,
   "metadata": {},
   "outputs": [],
   "source": [
    "DF_IPCA_TETO.rename(columns={'valor':'IPCA-Indice','data' :'DATA', 'fator': 'FATOR_CORRECAO', 'teto' : 'TETO_INSS'}, inplace=True)"
   ]
  },
  {
   "cell_type": "code",
   "execution_count": 328,
   "metadata": {},
   "outputs": [],
   "source": [
    "DF_IPCA_TETO['ALIQUOTA'] = 0"
   ]
  },
  {
   "cell_type": "code",
   "execution_count": 335,
   "metadata": {},
   "outputs": [],
   "source": [
    "DF_IPCA_TETO['ALIQUOTA'].where(DF_IPCA_TETO['DATA'] > '2018-03-01', 0.11, inplace=True)\n",
    "DF_IPCA_TETO['ALIQUOTA'].where(DF_IPCA_TETO['DATA'] <= '2018-03-01', 0.14, inplace=True)"
   ]
  },
  {
   "cell_type": "code",
   "execution_count": null,
   "metadata": {},
   "outputs": [],
   "source": [
    "DF_IPCA_TETO.set_index('DATA', inplace=True)"
   ]
  },
  {
   "cell_type": "code",
   "execution_count": 358,
   "metadata": {},
   "outputs": [],
   "source": [
    "DF_IPCA_TETO['CONTRIBUICAO'].where(DF_IPCA_TETO.index > '2012-07-01', 0.0, inplace = True)\n",
    "DF_IPCA_TETO['CONTRIBUICAO'].where(DF_IPCA_TETO.index <= '2012-07-01', 2000.0, inplace = True)\n",
    "DF_IPCA_TETO['CONTRIBUICAO'].where(DF_IPCA_TETO.index <= '2014-08-01', 4000.0, inplace = True)"
   ]
  },
  {
   "cell_type": "code",
   "execution_count": 360,
   "metadata": {},
   "outputs": [],
   "source": [
    "DF_IPCA_TETO['BASE_DEVOLUCAO'] = DF_IPCA_TETO['CONTRIBUICAO']/DF_IPCA_TETO['ALIQUOTA']"
   ]
  },
  {
   "cell_type": "code",
   "execution_count": 342,
   "metadata": {},
   "outputs": [],
   "source": [
    "tx_devolucao = .075"
   ]
  },
  {
   "cell_type": "code",
   "execution_count": 361,
   "metadata": {},
   "outputs": [],
   "source": [
    "DF_IPCA_TETO['PREMIO_HISTORICO'] = tx_devolucao*DF_IPCA_TETO['BASE_DEVOLUCAO']"
   ]
  },
  {
   "cell_type": "code",
   "execution_count": 365,
   "metadata": {},
   "outputs": [],
   "source": [
    "DF_IPCA_TETO['PREMIO_ATUALIZADO'] =  DF_IPCA_TETO['PREMIO_HISTORICO']*DF_IPCA_TETO['FATOR_CORRECAO']"
   ]
  },
  {
   "cell_type": "code",
   "execution_count": 367,
   "metadata": {},
   "outputs": [],
   "source": [
    "DF_IPCA_TETO['PREMIO_ATUALIZADO_ACUMULADO'] =  DF_IPCA_TETO['PREMIO_ATUALIZADO'].cumsum()"
   ]
  },
  {
   "cell_type": "code",
   "execution_count": null,
   "metadata": {},
   "outputs": [],
   "source": [
    "DF_IPCA_TETO.to_html('tabela_ipca_teto.html')"
   ]
  }
 ],
 "metadata": {
  "interpreter": {
   "hash": "a91661f12a7660b06e20351efced8906dd873d64d83054476518fc14e81d5ff6"
  },
  "kernelspec": {
   "display_name": "Python 3.8.6 64-bit",
   "language": "python",
   "name": "python3"
  },
  "language_info": {
   "codemirror_mode": {
    "name": "ipython",
    "version": 3
   },
   "file_extension": ".py",
   "mimetype": "text/x-python",
   "name": "python",
   "nbconvert_exporter": "python",
   "pygments_lexer": "ipython3",
   "version": "3.8.6"
  },
  "orig_nbformat": 4
 },
 "nbformat": 4,
 "nbformat_minor": 2
}
